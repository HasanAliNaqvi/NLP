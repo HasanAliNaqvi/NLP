{
  "nbformat": 4,
  "nbformat_minor": 0,
  "metadata": {
    "colab": {
      "name": "Class1_HW.ipynb",
      "provenance": [],
      "authorship_tag": "ABX9TyPgivBr3GmoI5Fr7VgQQc/y",
      "include_colab_link": true
    },
    "kernelspec": {
      "name": "python3",
      "display_name": "Python 3"
    }
  },
  "cells": [
    {
      "cell_type": "markdown",
      "metadata": {
        "id": "view-in-github",
        "colab_type": "text"
      },
      "source": [
        "<a href=\"https://colab.research.google.com/github/HasanAliNaqvi/NLP/blob/master/Class1_HW.ipynb\" target=\"_parent\"><img src=\"https://colab.research.google.com/assets/colab-badge.svg\" alt=\"Open In Colab\"/></a>"
      ]
    },
    {
      "cell_type": "code",
      "metadata": {
        "id": "51OPnQeMMBh0",
        "colab_type": "code",
        "colab": {}
      },
      "source": [
        "import pandas as pd\n",
        "import gzip"
      ],
      "execution_count": 0,
      "outputs": []
    },
    {
      "cell_type": "code",
      "metadata": {
        "id": "nO65yBgQkReq",
        "colab_type": "code",
        "colab": {}
      },
      "source": [
        "df= pd.read_json('http://snap.stanford.edu/data/amazon/productGraph/categoryFiles/reviews_Office_Products_5.json.gz', lines= True)\n"
      ],
      "execution_count": 0,
      "outputs": []
    },
    {
      "cell_type": "code",
      "metadata": {
        "id": "eGH8tBE2kRci",
        "colab_type": "code",
        "colab": {}
      },
      "source": [
        "def cv(str):\n",
        "  d= dict()\n",
        "  words= str.lower().split(\" \")\n",
        "  for word in words:\n",
        "    if word in d:\n",
        "      d[word] = d[word] +1\n",
        "    else:\n",
        "      d[word] = 1\n",
        "  return d"
      ],
      "execution_count": 0,
      "outputs": []
    },
    {
      "cell_type": "code",
      "metadata": {
        "id": "JK9Sz8URkpRv",
        "colab_type": "code",
        "colab": {
          "base_uri": "https://localhost:8080/",
          "height": 1000
        },
        "outputId": "64ae9472-c15f-4efd-8a55-e2098d7366cf"
      },
      "source": [
        "cv(df.reviewText[0])"
      ],
      "execution_count": 5,
      "outputs": [
        {
          "output_type": "execute_result",
          "data": {
            "text/plain": [
              "{'': 9,\n",
              " '(now': 1,\n",
              " '12c,': 2,\n",
              " '1984': 1,\n",
              " '2002': 1,\n",
              " '49g': 3,\n",
              " '49g+)': 1,\n",
              " '49g.': 1,\n",
              " 'a': 5,\n",
              " 'about': 1,\n",
              " 'an': 1,\n",
              " 'and': 5,\n",
              " 'another': 1,\n",
              " 'applications': 1,\n",
              " 'are': 1,\n",
              " 'area.': 1,\n",
              " 'as': 1,\n",
              " 'aside': 1,\n",
              " 'at': 1,\n",
              " 'back': 1,\n",
              " 'basic': 1,\n",
              " 'batteries': 1,\n",
              " 'be': 3,\n",
              " 'best.': 1,\n",
              " 'bought': 1,\n",
              " 'business': 1,\n",
              " 'but': 3,\n",
              " 'buy': 1,\n",
              " 'by': 1,\n",
              " 'calculator,': 1,\n",
              " 'come': 1,\n",
              " 'coming': 1,\n",
              " 'counterintuitive...and': 1,\n",
              " 'decade': 1,\n",
              " 'decided': 1,\n",
              " \"didn't\": 1,\n",
              " 'difficult': 1,\n",
              " 'disaster.the': 1,\n",
              " 'does': 2,\n",
              " 'even': 1,\n",
              " 'extremely': 1,\n",
              " 'faithfully': 1,\n",
              " 'first': 1,\n",
              " 'flagship': 1,\n",
              " 'for': 4,\n",
              " 'found': 1,\n",
              " 'friend.': 1,\n",
              " 'good': 1,\n",
              " 'hand,': 1,\n",
              " 'have': 1,\n",
              " 'home!': 1,\n",
              " 'hp': 3,\n",
              " 'hp12c': 2,\n",
              " 'i': 7,\n",
              " \"i'm\": 1,\n",
              " 'in': 5,\n",
              " 'is': 1,\n",
              " 'it': 4,\n",
              " \"it's\": 1,\n",
              " 'it,': 1,\n",
              " 'know': 1,\n",
              " 'line,': 1,\n",
              " 'looking': 1,\n",
              " 'lost': 1,\n",
              " 'makes': 2,\n",
              " 'manual': 2,\n",
              " 'many': 2,\n",
              " 'may': 2,\n",
              " 'me': 2,\n",
              " 'me.if': 1,\n",
              " 'mistake!': 1,\n",
              " 'move': 1,\n",
              " 'my': 4,\n",
              " 'need': 1,\n",
              " 'of': 2,\n",
              " 'old': 1,\n",
              " 'on': 1,\n",
              " 'one': 2,\n",
              " 'or': 1,\n",
              " \"order.i'm\": 1,\n",
              " 'other': 1,\n",
              " 'over': 1,\n",
              " 'people': 1,\n",
              " 'powerful,': 1,\n",
              " 'programmable.': 1,\n",
              " 'purchased': 1,\n",
              " 'ready': 1,\n",
              " 'reliable': 1,\n",
              " 'replace': 2,\n",
              " 'running': 1,\n",
              " 'searched': 1,\n",
              " 'sense': 1,\n",
              " 'sense;': 1,\n",
              " 'served': 1,\n",
              " 'set': 1,\n",
              " 'short': 1,\n",
              " 'sketchy': 1,\n",
              " 'so,': 2,\n",
              " 'solid,': 1,\n",
              " 'statistics': 1,\n",
              " 'that': 3,\n",
              " 'the': 9,\n",
              " 'to': 7,\n",
              " 'too.': 1,\n",
              " 'travelling.': 1,\n",
              " 'until': 1,\n",
              " 'up': 2,\n",
              " 'use!hp': 1,\n",
              " 'using': 1,\n",
              " 'view': 1,\n",
              " 'was': 2,\n",
              " 'way': 1,\n",
              " 'well': 1,\n",
              " 'well,': 1,\n",
              " 'what': 2,\n",
              " 'when': 1,\n",
              " 'while': 1,\n",
              " 'will': 1,\n",
              " 'you': 2,\n",
              " 'you.': 1}"
            ]
          },
          "metadata": {
            "tags": []
          },
          "execution_count": 5
        }
      ]
    },
    {
      "cell_type": "code",
      "metadata": {
        "id": "x5oZpkWDkucF",
        "colab_type": "code",
        "colab": {}
      },
      "source": [
        "\n",
        "df2= df"
      ],
      "execution_count": 0,
      "outputs": []
    },
    {
      "cell_type": "code",
      "metadata": {
        "id": "tloeWlerk3JE",
        "colab_type": "code",
        "colab": {}
      },
      "source": [
        "df2['reviewText_count']= df2['reviewText'].apply(cv)\n"
      ],
      "execution_count": 0,
      "outputs": []
    },
    {
      "cell_type": "code",
      "metadata": {
        "id": "5QmB-hxnk-bQ",
        "colab_type": "code",
        "colab": {
          "base_uri": "https://localhost:8080/",
          "height": 323
        },
        "outputId": "e4c093d9-8a5d-4d22-b476-403c78c2b2cf"
      },
      "source": [
        "\n",
        "df2.head()"
      ],
      "execution_count": 8,
      "outputs": [
        {
          "output_type": "execute_result",
          "data": {
            "text/html": [
              "<div>\n",
              "<style scoped>\n",
              "    .dataframe tbody tr th:only-of-type {\n",
              "        vertical-align: middle;\n",
              "    }\n",
              "\n",
              "    .dataframe tbody tr th {\n",
              "        vertical-align: top;\n",
              "    }\n",
              "\n",
              "    .dataframe thead th {\n",
              "        text-align: right;\n",
              "    }\n",
              "</style>\n",
              "<table border=\"1\" class=\"dataframe\">\n",
              "  <thead>\n",
              "    <tr style=\"text-align: right;\">\n",
              "      <th></th>\n",
              "      <th>reviewerID</th>\n",
              "      <th>asin</th>\n",
              "      <th>reviewerName</th>\n",
              "      <th>helpful</th>\n",
              "      <th>reviewText</th>\n",
              "      <th>overall</th>\n",
              "      <th>summary</th>\n",
              "      <th>unixReviewTime</th>\n",
              "      <th>reviewTime</th>\n",
              "      <th>reviewText_count</th>\n",
              "    </tr>\n",
              "  </thead>\n",
              "  <tbody>\n",
              "    <tr>\n",
              "      <th>0</th>\n",
              "      <td>A32T2H8150OJLU</td>\n",
              "      <td>B00000JBLH</td>\n",
              "      <td>ARH</td>\n",
              "      <td>[3, 4]</td>\n",
              "      <td>I bought my first HP12C in about 1984 or so, a...</td>\n",
              "      <td>5</td>\n",
              "      <td>A solid performer, and long time friend</td>\n",
              "      <td>1094169600</td>\n",
              "      <td>09 3, 2004</td>\n",
              "      <td>{'i': 7, 'bought': 1, 'my': 4, 'first': 1, 'hp...</td>\n",
              "    </tr>\n",
              "    <tr>\n",
              "      <th>1</th>\n",
              "      <td>A3MAFS04ZABRGO</td>\n",
              "      <td>B00000JBLH</td>\n",
              "      <td>Let it Be \"Alan\"</td>\n",
              "      <td>[7, 9]</td>\n",
              "      <td>WHY THIS BELATED REVIEW? I feel very obliged t...</td>\n",
              "      <td>5</td>\n",
              "      <td>Price of GOLD is up, so don't bury the golden ...</td>\n",
              "      <td>1197676800</td>\n",
              "      <td>12 15, 2007</td>\n",
              "      <td>{'why': 2, 'this': 13, 'belated': 1, 'review?'...</td>\n",
              "    </tr>\n",
              "    <tr>\n",
              "      <th>2</th>\n",
              "      <td>A1F1A0QQP2XVH5</td>\n",
              "      <td>B00000JBLH</td>\n",
              "      <td>Mark B</td>\n",
              "      <td>[3, 3]</td>\n",
              "      <td>I have an HP 48GX that has been kicking for mo...</td>\n",
              "      <td>2</td>\n",
              "      <td>Good functionality, but not durable like old HPs</td>\n",
              "      <td>1293840000</td>\n",
              "      <td>01 1, 2011</td>\n",
              "      <td>{'i': 2, 'have': 2, 'an': 2, 'hp': 3, '48gx': ...</td>\n",
              "    </tr>\n",
              "    <tr>\n",
              "      <th>3</th>\n",
              "      <td>A49R5DBXXQDE5</td>\n",
              "      <td>B00000JBLH</td>\n",
              "      <td>R. D Johnson</td>\n",
              "      <td>[7, 8]</td>\n",
              "      <td>I've started doing more finance stuff recently...</td>\n",
              "      <td>5</td>\n",
              "      <td>One of the last of an almost extinct species</td>\n",
              "      <td>1145404800</td>\n",
              "      <td>04 19, 2006</td>\n",
              "      <td>{'i've': 4, 'started': 1, 'doing': 2, 'more': ...</td>\n",
              "    </tr>\n",
              "    <tr>\n",
              "      <th>4</th>\n",
              "      <td>A2XRMQA6PJ5ZJ8</td>\n",
              "      <td>B00000JBLH</td>\n",
              "      <td>Roger J. Buffington</td>\n",
              "      <td>[0, 0]</td>\n",
              "      <td>For simple calculations and discounted cash fl...</td>\n",
              "      <td>5</td>\n",
              "      <td>Still the best</td>\n",
              "      <td>1375574400</td>\n",
              "      <td>08 4, 2013</td>\n",
              "      <td>{'for': 4, 'simple': 1, 'calculations': 2, 'an...</td>\n",
              "    </tr>\n",
              "  </tbody>\n",
              "</table>\n",
              "</div>"
            ],
            "text/plain": [
              "       reviewerID  ...                                   reviewText_count\n",
              "0  A32T2H8150OJLU  ...  {'i': 7, 'bought': 1, 'my': 4, 'first': 1, 'hp...\n",
              "1  A3MAFS04ZABRGO  ...  {'why': 2, 'this': 13, 'belated': 1, 'review?'...\n",
              "2  A1F1A0QQP2XVH5  ...  {'i': 2, 'have': 2, 'an': 2, 'hp': 3, '48gx': ...\n",
              "3   A49R5DBXXQDE5  ...  {'i've': 4, 'started': 1, 'doing': 2, 'more': ...\n",
              "4  A2XRMQA6PJ5ZJ8  ...  {'for': 4, 'simple': 1, 'calculations': 2, 'an...\n",
              "\n",
              "[5 rows x 10 columns]"
            ]
          },
          "metadata": {
            "tags": []
          },
          "execution_count": 8
        }
      ]
    }
  ]
}