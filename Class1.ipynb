{
  "nbformat": 4,
  "nbformat_minor": 0,
  "metadata": {
    "colab": {
      "name": "Class1.ipynb",
      "provenance": [],
      "authorship_tag": "ABX9TyNE9DyUDcncOILvj1PcTKYG",
      "include_colab_link": true
    },
    "kernelspec": {
      "name": "python3",
      "display_name": "Python 3"
    }
  },
  "cells": [
    {
      "cell_type": "markdown",
      "metadata": {
        "id": "view-in-github",
        "colab_type": "text"
      },
      "source": [
        "<a href=\"https://colab.research.google.com/github/HasanAliNaqvi/NLP/blob/master/Class1.ipynb\" target=\"_parent\"><img src=\"https://colab.research.google.com/assets/colab-badge.svg\" alt=\"Open In Colab\"/></a>"
      ]
    },
    {
      "cell_type": "code",
      "metadata": {
        "id": "DtwpLtfEjYpa",
        "colab_type": "code",
        "colab": {}
      },
      "source": [
        "def nth_prime_number(n):\n",
        "    if n==1:    # First Prime Number\n",
        "        return 2\n",
        "    count = 1    # To count till N\n",
        "    num = 1      # The number to be checked\n",
        "    while(count < n):\n",
        "        num +=2 \n",
        "        if is_prime(num):\n",
        "            count +=1\n",
        "    return num\n",
        "\n",
        "def is_prime(num):\n",
        "    factor = 2\n",
        "    while (factor * factor <= num):\n",
        "        if num % factor == 0:\n",
        "             return False\n",
        "        factor +=1\n",
        "    return True\n"
      ],
      "execution_count": 0,
      "outputs": []
    },
    {
      "cell_type": "code",
      "metadata": {
        "id": "4x6oltjKjiN7",
        "colab_type": "code",
        "colab": {
          "base_uri": "https://localhost:8080/",
          "height": 34
        },
        "outputId": "d24fa0f2-68e8-4e4b-af4b-c3aa1c5953db"
      },
      "source": [
        "nth_prime_number(6)"
      ],
      "execution_count": 2,
      "outputs": [
        {
          "output_type": "execute_result",
          "data": {
            "text/plain": [
              "13"
            ]
          },
          "metadata": {
            "tags": []
          },
          "execution_count": 2
        }
      ]
    }
  ]
}