{
  "nbformat": 4,
  "nbformat_minor": 0,
  "metadata": {
    "colab": {
      "name": "Class5_CW.ipynb",
      "provenance": [],
      "authorship_tag": "ABX9TyNVZCtQktN4H00t3uL6VNBm",
      "include_colab_link": true
    },
    "kernelspec": {
      "name": "python3",
      "display_name": "Python 3"
    }
  },
  "cells": [
    {
      "cell_type": "markdown",
      "metadata": {
        "id": "view-in-github",
        "colab_type": "text"
      },
      "source": [
        "<a href=\"https://colab.research.google.com/github/HasanAliNaqvi/NLP/blob/master/Class5_CW.ipynb\" target=\"_parent\"><img src=\"https://colab.research.google.com/assets/colab-badge.svg\" alt=\"Open In Colab\"/></a>"
      ]
    },
    {
      "cell_type": "code",
      "metadata": {
        "id": "U3vi_Q7exG4v",
        "colab_type": "code",
        "outputId": "e946d9a9-89bd-4d02-a34b-c66032b3a4a1",
        "colab": {
          "base_uri": "https://localhost:8080/",
          "height": 292
        }
      },
      "source": [
        "\n",
        "!pip install word2vec"
      ],
      "execution_count": 0,
      "outputs": [
        {
          "output_type": "stream",
          "text": [
            "Collecting word2vec\n",
            "  Using cached https://files.pythonhosted.org/packages/ce/51/5e2782b204015c8aef0ac830297c2f2735143ec90f592b9b3b909bb89757/word2vec-0.10.2.tar.gz\n",
            "Requirement already satisfied: six in /usr/local/lib/python3.6/dist-packages (from word2vec) (1.12.0)\n",
            "Requirement already satisfied: cython in /usr/local/lib/python3.6/dist-packages (from word2vec) (0.29.15)\n",
            "Requirement already satisfied: numpy>=1.9.2 in /usr/local/lib/python3.6/dist-packages (from word2vec) (1.17.5)\n",
            "Requirement already satisfied: scipy in /usr/local/lib/python3.6/dist-packages (from word2vec) (1.4.1)\n",
            "Requirement already satisfied: scikit-learn in /usr/local/lib/python3.6/dist-packages (from word2vec) (0.22.1)\n",
            "Requirement already satisfied: joblib>=0.11 in /usr/local/lib/python3.6/dist-packages (from scikit-learn->word2vec) (0.14.1)\n",
            "Building wheels for collected packages: word2vec\n",
            "  Building wheel for word2vec (setup.py) ... \u001b[?25l\u001b[?25hdone\n",
            "  Created wheel for word2vec: filename=word2vec-0.10.2-cp36-cp36m-linux_x86_64.whl size=128678 sha256=6885dae56e76f3b02ebb9d15a80d899e59fb0bc4dfa4f1f1bafc308aa49f7a5b\n",
            "  Stored in directory: /root/.cache/pip/wheels/ef/9f/06/aec42532c9c37e05f936d4d586b15cfdfc9f2ffb62bd7fed1c\n",
            "Successfully built word2vec\n",
            "Installing collected packages: word2vec\n",
            "Successfully installed word2vec-0.10.2\n"
          ],
          "name": "stdout"
        }
      ]
    },
    {
      "cell_type": "code",
      "metadata": {
        "id": "ZrHg_sysxcUg",
        "colab_type": "code",
        "colab": {}
      },
      "source": [
        "import pandas as pd \n",
        "import numpy as np\n",
        "from gensim.models import Word2Vec\n",
        "from nltk.corpus import stopwords\n",
        "from itertools import combinations\n",
        "import string"
      ],
      "execution_count": 0,
      "outputs": []
    },
    {
      "cell_type": "code",
      "metadata": {
        "id": "drHg1PGnxg73",
        "colab_type": "code",
        "colab": {}
      },
      "source": [
        "df=pd.read_csv(\"https://raw.githubusercontent.com/zfz/twitter_corpus/master/full-corpus.csv\") \n",
        "twit = df.copy()"
      ],
      "execution_count": 0,
      "outputs": []
    },
    {
      "cell_type": "code",
      "metadata": {
        "id": "8Ahkgbrt2tnI",
        "colab_type": "code",
        "colab": {}
      },
      "source": [
        "twit['tokenText'] = twit['TweetText'].apply(lambda x: list(set(x.translate(str.maketrans('','', string.punctuation)).split())))"
      ],
      "execution_count": 0,
      "outputs": []
    },
    {
      "cell_type": "code",
      "metadata": {
        "id": "STux38Zx2wJF",
        "colab_type": "code",
        "colab": {
          "base_uri": "https://localhost:8080/",
          "height": 221
        },
        "outputId": "d97bb1ad-090b-4298-a702-a41bdc3dd68c"
      },
      "source": [
        "twit['tokenText']"
      ],
      "execution_count": 9,
      "outputs": [
        {
          "output_type": "execute_result",
          "data": {
            "text/plain": [
              "0       [it, Apple, that, Now, is, get, has, the, will...\n",
              "1       [4S, Apple, adding, support, will, the, more, ...\n",
              "2       [duet, affair, apple, httptco8ExbnQjY, Hilario...\n",
              "3       [it, Apple, easy, me, RIM, switch, ya, made, S...\n",
              "4       [apple, that, twitter, the, ios5, reason, into...\n",
              "                              ...                        \n",
              "5108                         [me, copè, twitter, re, con]\n",
              "5109    [quierooo, Buenas, los, noches, twitter, gente...\n",
              "5110    [de, mala, cuano, voy, me, costumbre, tiene, p...\n",
              "5111    [meu, followback, por, Abrass, perfil, certo, ...\n",
              "5112    [arrastaram, e, Eles, os, seguiram, para, tudo...\n",
              "Name: tokenText, Length: 5113, dtype: object"
            ]
          },
          "metadata": {
            "tags": []
          },
          "execution_count": 9
        }
      ]
    },
    {
      "cell_type": "code",
      "metadata": {
        "id": "EGZwzm8324Z5",
        "colab_type": "code",
        "colab": {}
      },
      "source": [
        "bagofwords = [[i] for i in list(set([y for x in twit['tokenText'] for y in x]))] \n",
        "model = Word2Vec(list(bagofwords), min_count=1,size= 50,workers=3, window =3, sg = 1)"
      ],
      "execution_count": 0,
      "outputs": []
    },
    {
      "cell_type": "code",
      "metadata": {
        "id": "W1pyqIAB29Rt",
        "colab_type": "code",
        "colab": {
          "base_uri": "https://localhost:8080/",
          "height": 836
        },
        "outputId": "42fdd0f2-1b81-4839-af8f-b28a4e170bfc"
      },
      "source": [
        "for i in bagofwords[0:10]: #taking smaller sample of words for ease of computing\n",
        "  for j in bagofwords[0:10]:\n",
        "    if j>i:\n",
        "      print(i[0],j[0],' : ',model.wv.similarity(i[0],j[0]))\n",
        "    else:\n",
        "      continue"
      ],
      "execution_count": 13,
      "outputs": [
        {
          "output_type": "stream",
          "text": [
            "BrianCrockerJr From  :  0.06843476\n",
            "BrianCrockerJr Ima  :  -0.13030332\n",
            "BrianCrockerJr kellykatiucia  :  -0.006389722\n",
            "BrianCrockerJr sueños  :  -0.21988131\n",
            "BrianCrockerJr Sales  :  0.031938136\n",
            "BrianCrockerJr Forget  :  0.1714552\n",
            "BrianCrockerJr httptcoeJkelj3l  :  -0.097981095\n",
            "BrianCrockerJr Ik  :  -0.04837808\n",
            "BrianCrockerJr touchme  :  -0.035250578\n",
            "From Ima  :  0.03894318\n",
            "From kellykatiucia  :  0.16607712\n",
            "From sueños  :  -0.15454966\n",
            "From Sales  :  -0.20384303\n",
            "From httptcoeJkelj3l  :  -0.2558922\n",
            "From Ik  :  0.1383637\n",
            "From touchme  :  -0.073448695\n",
            "Ima kellykatiucia  :  -0.071309574\n",
            "Ima sueños  :  0.024079582\n",
            "Ima Sales  :  -0.028587464\n",
            "Ima httptcoeJkelj3l  :  0.06804402\n",
            "Ima touchme  :  0.14056894\n",
            "kellykatiucia sueños  :  -0.16689155\n",
            "kellykatiucia touchme  :  -0.3730393\n",
            "sueños touchme  :  0.038408834\n",
            "Sales kellykatiucia  :  0.12754473\n",
            "Sales sueños  :  -0.09014138\n",
            "Sales httptcoeJkelj3l  :  -0.014055725\n",
            "Sales touchme  :  -0.11406537\n",
            "Forget From  :  0.13114879\n",
            "Forget Ima  :  0.15116163\n",
            "Forget kellykatiucia  :  0.051333442\n",
            "Forget sueños  :  0.027604375\n",
            "Forget Sales  :  0.12868366\n",
            "Forget httptcoeJkelj3l  :  0.070830196\n",
            "Forget Ik  :  0.0076199854\n",
            "Forget touchme  :  0.18073641\n",
            "httptcoeJkelj3l kellykatiucia  :  -0.12956308\n",
            "httptcoeJkelj3l sueños  :  0.20400144\n",
            "httptcoeJkelj3l touchme  :  -0.028098824\n",
            "Ik Ima  :  0.034409143\n",
            "Ik kellykatiucia  :  -0.043715917\n",
            "Ik sueños  :  0.053647462\n",
            "Ik Sales  :  -0.20913735\n",
            "Ik httptcoeJkelj3l  :  0.06721638\n",
            "Ik touchme  :  0.09763402\n"
          ],
          "name": "stdout"
        },
        {
          "output_type": "stream",
          "text": [
            "/usr/local/lib/python3.6/dist-packages/gensim/matutils.py:737: FutureWarning: Conversion of the second argument of issubdtype from `int` to `np.signedinteger` is deprecated. In future, it will be treated as `np.int64 == np.dtype(int).type`.\n",
            "  if np.issubdtype(vec.dtype, np.int):\n"
          ],
          "name": "stderr"
        }
      ]
    }
  ]
}